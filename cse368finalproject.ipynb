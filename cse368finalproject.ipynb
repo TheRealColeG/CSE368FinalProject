{
 "cells": [
  {
   "cell_type": "markdown",
   "id": "0c72bd7e",
   "metadata": {},
   "source": [
    "<h1>Imports</h1>"
   ]
  },
  {
   "cell_type": "code",
   "execution_count": 43,
   "id": "eb949ee4",
   "metadata": {},
   "outputs": [],
   "source": [
    "import sys\n",
    "import math\n",
    "import numpy as np\n",
    "import pandas as pd\n",
    "import matplotlib.pyplot as plt\n",
    "from sklearn.linear_model import LinearRegression"
   ]
  },
  {
   "cell_type": "code",
   "execution_count": 52,
   "id": "e7193eb4",
   "metadata": {},
   "outputs": [],
   "source": [
    "train = pd.read_csv(\"CSE368FinalProject/train.csv\")\n",
    "\n",
    "projectedCosts = []\n",
    "actualCosts = []\n",
    "\n",
    "difference = 0\n",
    "    \n",
    "for house in train.values:\n",
    "        \n",
    "    projectedCost = 0\n",
    "\n",
    "    subClass = int(house[1])\n",
    "    \n",
    "    if subClass == 20: projectedCost = 200000\n",
    "    if subClass == 30: projectedCost = 100000\n",
    "    if subClass == 40: projectedCost = 150000\n",
    "    if subClass == 45: projectedCost = 125000\n",
    "    if subClass == 50: projectedCost = 175000\n",
    "    if subClass == 60: projectedCost = 200000\n",
    "    if subClass == 70: projectedCost = 150000\n",
    "    if subClass == 75: projectedCost = 225000\n",
    "    if subClass == 80: projectedCost = 125000\n",
    "    if subClass == 85: projectedCost = 75000\n",
    "    if subClass == 90: projectedCost = 70000\n",
    "    if subClass == 120: projectedCost = 175000\n",
    "    if subClass == 150: projectedCost = 200000\n",
    "    if subClass == 160: projectedCost = 210000\n",
    "    if subClass == 180: projectedCost = 180000\n",
    "    if subClass == 190: projectedCost = 200000\n",
    "\n",
    "    lotArea = int(house[4])\n",
    "    projectedCost += int(lotArea * 0.3)\n",
    "\n",
    "    projectedCost += (int(house[17]) - 5) * 5000\n",
    "    projectedCost += (int(house[18]) - 5) * 5000\n",
    "\n",
    "    projectedCost += ((int(house[19])) - 1980) * 2000\n",
    "    exterqual = house[27]\n",
    "    qualList = [\"Ex\",\"Gd\",\"TA\",\"Fa\",\"Po\"]\n",
    "    location = qualList.index(house[27]) - 2\n",
    "    projectedCost -= (location * 10000)\n",
    "\n",
    "    extercond = house[28]\n",
    "    location = qualList.index(house[28]) - 2\n",
    "    projectedCost -= (location * 10000)\n",
    "\n",
    "    if (house[41] == \"Y\"):\n",
    "        projectedCost += 2500\n",
    "\n",
    "    if (house[46] < 1300): projectedCost -= 15000\n",
    "    elif (2000 < house[46] > 1300): projectedCost += 10000\n",
    "    else : projectedCost += 20000\n",
    "\n",
    "    projectedCost += ((house[47]+house[48]+house[49]+house[50])-3)*5000\n",
    "    projectedCost += (house[51]-3)*5000\n",
    "\n",
    "    projectedCost += (house[52] - 1)*10000\n",
    "\n",
    "    functionalList = [\"Typ\",\"Min1\",\"Min2\",\"Mod\",\"Maj1\",\"Maj2\",\"Sev\",\"Sal\"]\n",
    "    howbad = functionalList.index(house[55])\n",
    "    projectedCost -= howbad * 5000\n",
    "\n",
    "    projectedCost += (house[61]-2)*5000\n",
    "\n",
    "    projectedCost += house[75]*10\n",
    "\n",
    "    projectedCost += (house[77]-2000)*50\n",
    "\n",
    "    actualCost = int(house[80])\n",
    "    \n",
    "    projectedCosts.append(projectedCost)\n",
    "    actualCosts.append(actualCost)\n",
    "    \n",
    "    difference += actualCost-projectedCost\n",
    "\n",
    "avg = difference / len(train)"
   ]
  },
  {
   "cell_type": "code",
   "execution_count": 78,
   "id": "e32a024f",
   "metadata": {},
   "outputs": [
    {
     "data": {
      "image/png": "[encoded data removed]",
      "text/plain": [
       "<Figure size 432x288 with 1 Axes>"
      ]
     },
     "metadata": {
      "needs_background": "light"
     },
     "output_type": "display_data"
    }
   ],
   "source": [
    "plt.title(\"Expected Price vs. Actual Price\")\n",
    "line = avg\n",
    "x = actualCosts\n",
    "y = projectedCosts\n",
    "plt.scatter(x,y,color=\"green\")\n",
    "plt.plot([0,350000],[0,350000],c=\"red\",linewidth=3)\n",
    "\n",
    "plt.xlim(right=650000)\n",
    "plt.show()"
   ]
  },
  {
   "cell_type": "code",
   "execution_count": null,
   "id": "8925be13",
   "metadata": {},
   "outputs": [],
   "source": []
  }
 ],
 "metadata": {
  "kernelspec": {
   "display_name": "Python 3",
   "language": "python",
   "name": "python3"
  },
  "language_info": {
   "codemirror_mode": {
    "name": "ipython",
    "version": 3
   },
   "file_extension": ".py",
   "mimetype": "text/x-python",
   "name": "python",
   "nbconvert_exporter": "python",
   "pygments_lexer": "ipython3",
   "version": "3.8.8"
  }
 },
 "nbformat": 4,
 "nbformat_minor": 5
}
