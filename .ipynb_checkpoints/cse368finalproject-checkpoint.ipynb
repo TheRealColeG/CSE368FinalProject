{
 "cells": [
  {
   "cell_type": "markdown",
   "id": "0c72bd7e",
   "metadata": {},
   "source": [
    "<h1>Imports</h1>"
   ]
  },
  {
   "cell_type": "code",
   "execution_count": 2,
   "id": "27126e60",
   "metadata": {},
   "outputs": [],
   "source": [
    "import math\n",
    "import numpy as np\n",
    "import matplotlib as mpl"
   ]
  },
  {
   "cell_type": "markdown",
   "id": "4d0bd2b0",
   "metadata": {},
   "source": [
    "<h1>User class</h1>"
   ]
  },
  {
   "cell_type": "code",
   "execution_count": 4,
   "id": "8a16a38f",
   "metadata": {},
   "outputs": [],
   "source": [
    "class User:\n",
    "    def __init__(self, id, age, gender, occupation, zipcode):\n",
    "        self.id = id\n",
    "        self.age = age\n",
    "        self.gender = gender\n",
    "        self.occupation = occupation\n",
    "        self.zipcode = zipcode\n",
    "        self.ratings = list() #Will be filled in later on"
   ]
  },
  {
   "cell_type": "markdown",
   "id": "2779bcd3",
   "metadata": {},
   "source": [
    "<h1>Movie Class</h1>"
   ]
  },
  {
   "cell_type": "code",
   "execution_count": 5,
   "id": "e7928224",
   "metadata": {},
   "outputs": [],
   "source": [
    "class Movie:\n",
    "    def __init__(self, id, title, releaseDate, genres):\n",
    "        self.id = id\n",
    "        self.title = title\n",
    "        self.releaseDate = releaseDate\n",
    "        self.genres = genres\n",
    "        self.ratings = list() #Will be filled in later on\n",
    "    \n",
    "    #For getting the list of genres, as this is weirdly cumbersome\n",
    "    def getGenre(entireLine):\n",
    "        possibleGenres = [\"Unknown\",\"Action\",\"Adventure\",\"Animation\",\"Children's\",\"Comedy\",\"Crime\",\"Documentary\",\"Drama\",\"Fantasy\",\"Film-Noir\",\"Horror\",\"Musical\",\"Mystery\",\"Romance\",\"Sci-Fi\",\"Thriller\",\"War\",\"Western\"]\n",
    "        halves = entireLine.split(\"||\")\n",
    "        fields = halves[1].split(\"|\")\n",
    "        fields.pop(0)\n",
    "        genres = []\n",
    "        for index in range(len(fields)):\n",
    "            if fields[index] == \"1\":\n",
    "                genres.append(possibleGenres[index])\n",
    "        return genres"
   ]
  },
  {
   "cell_type": "markdown",
   "id": "1cf7bd5f",
   "metadata": {},
   "source": [
    "<h1>Ratings Class</h1>"
   ]
  },
  {
   "cell_type": "code",
   "execution_count": null,
   "id": "eb7eb2d4",
   "metadata": {},
   "outputs": [],
   "source": [
    "class Ratings:\n",
    "    def __init__(self,userID,movieID,rating): #THROWING AWAY TIMESTAMP BECAUSE IT'S STUPID AND USELESS\n",
    "        self.userID = userID\n",
    "        self.movieID = movieID\n",
    "        self.rating = rating"
   ]
  },
  {
   "cell_type": "markdown",
   "id": "d4e07e46",
   "metadata": {},
   "source": [
    "<h1>Initialization Methods for Movie, User, and Ratings, respectively</h1>"
   ]
  },
  {
   "cell_type": "code",
   "execution_count": 7,
   "id": "029a258a",
   "metadata": {},
   "outputs": [],
   "source": [
    "def initializeMovies():\n",
    "    MovieBase = {} #List of Movie objects\n",
    "    with open(\"u.item\") as file:\n",
    "        allLines = file.readlines()\n",
    "        for line in allLines:\n",
    "\n",
    "            fields = line.split(\"|\")\n",
    "            id = int(fields[0].strip())\n",
    "            title = fields[1].strip()\n",
    "            releaseDate = fields[2].strip()\n",
    "            genres = Movie.getGenre(line)\n",
    "\n",
    "            newMovie = Movie(id,title,releaseDate,genres)\n",
    "            MovieBase[id] = newMovie\n",
    "            \n",
    "    return MovieBase\n",
    "\n",
    "def initializeUsers():\n",
    "    UserBase = {} #List of User objects\n",
    "    with open(\"u.user\") as file:\n",
    "        #May have to .strip() for \\n\n",
    "        allLines = file.readlines()\n",
    "        for line in allLines:\n",
    "\n",
    "            fields = line.split(\"|\")\n",
    "            id = int(fields[0].strip())\n",
    "            age = int(fields[1].strip())\n",
    "            gender = fields[2].strip()\n",
    "            occupation = fields[3].strip()\n",
    "            zip = fields[4].strip()\n",
    "\n",
    "            newUser = User(id, age, gender, occupation, zip)\n",
    "            UserBase[id] = newUser\n",
    "\n",
    "    return UserBase\n",
    "\n",
    "def initializeRatings(movieBase, userBase):\n",
    "    #In reality, no actual ratingBase is needed since the values will be added to the user/movie bases \n",
    "    #but just in case they are I'm going to make a base for them\n",
    "    #Let's be real, is anyone strapped for memory in such a low level application such as this?\n",
    "    RatingBase = []\n",
    "    with open(\"u.data\") as file:\n",
    "        allLines = file.readlines()\n",
    "        for line in allLines:\n",
    "\n",
    "            fields = line.split()\n",
    "            userID = int(fields[0].strip())\n",
    "            movieID = int(fields[1].strip())\n",
    "            rating = int(fields[2].strip())\n",
    "\n",
    "            newRating = Rating(userID, movieID, rating)\n",
    "\n",
    "            movieBase[movieID].ratings.append(newRating)\n",
    "            userBase[userID].ratings.append(newRating)\n",
    "\n",
    "            RatingBase.append(newRating)\n",
    "    \n",
    "    return RatingBase"
   ]
  },
  {
   "cell_type": "code",
   "execution_count": null,
   "id": "0181055f",
   "metadata": {},
   "outputs": [],
   "source": []
  }
 ],
 "metadata": {
  "kernelspec": {
   "display_name": "Python 3",
   "language": "python",
   "name": "python3"
  },
  "language_info": {
   "codemirror_mode": {
    "name": "ipython",
    "version": 3
   },
   "file_extension": ".py",
   "mimetype": "text/x-python",
   "name": "python",
   "nbconvert_exporter": "python",
   "pygments_lexer": "ipython3",
   "version": "3.8.8"
  }
 },
 "nbformat": 4,
 "nbformat_minor": 5
}
