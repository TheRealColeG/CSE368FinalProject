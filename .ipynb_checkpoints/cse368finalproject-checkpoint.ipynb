{
 "cells": [
  {
   "cell_type": "markdown",
   "id": "0c72bd7e",
   "metadata": {},
   "source": [
    "<h1>Imports</h1>"
   ]
  },
  {
   "cell_type": "code",
   "execution_count": 33,
   "id": "eb949ee4",
   "metadata": {},
   "outputs": [],
   "source": [
    "import sys\n",
    "import math\n",
    "import numpy as np\n",
    "import pandas as pd\n",
    "import matplotlib.pyplot as plt"
   ]
  },
  {
   "cell_type": "code",
   "execution_count": 34,
   "id": "e7193eb4",
   "metadata": {},
   "outputs": [],
   "source": [
    "train = pd.read_csv(\"train.csv\")\n",
    "\n",
    "projectedCosts = []\n",
    "actualCosts = []\n",
    "\n",
    "MAE = 0\n",
    "MSE = 0\n",
    "    \n",
    "for house in train.values:\n",
    "        \n",
    "        projectedCost = 90000\n",
    "\n",
    "        listy = list()\n",
    "        lotArea = int(house[4])\n",
    "        projectedCost += int(lotArea * 0.3)\n",
    "\n",
    "        #overall quality, overall condition\n",
    "        y = 5 #5\n",
    "        x = 6000 #6000\n",
    "        projectedCost += (int(house[17]) - y) * x\n",
    "        projectedCost += (int(house[18]) - y) * x\n",
    "\n",
    "        #Year Built\n",
    "        y = 1975 #1975\n",
    "        x = 1000 #1000\n",
    "        projectedCost += ((int(house[19])) - y) * x\n",
    "        \n",
    "        exterqual = house[27]\n",
    "        x = 1.4\n",
    "        if exterqual ==  \"Ex\": projectedCost += 75000*x\n",
    "        if exterqual ==  \"Gd\": projectedCost += 0\n",
    "        if exterqual ==  \"TA\": projectedCost += 0\n",
    "        if exterqual ==  \"Fa\": projectedCost += -10000*x\n",
    "        if exterqual ==  \"Po\": projectedCost += -20000*x\n",
    "\n",
    "        #Central Air\n",
    "        x = 10000\n",
    "        if (house[41] == \"N\"):\n",
    "            projectedCost -= x\n",
    "\n",
    "        #sq. ft. above ground\n",
    "        x=7500\n",
    "        y=2\n",
    "        if (house[46] < 1300): projectedCost -= x\n",
    "        elif (2000 < house[46] > 1300): projectedCost += x*y\n",
    "        else : projectedCost += x*(y**2)\n",
    "\n",
    "        #All baths\n",
    "        x = 5000 #5000\n",
    "        y = 1 #3\n",
    "        projectedCost += ((house[47]+house[48]+house[49]+house[50])-y)*x\n",
    "\n",
    "        #Bedrooms abv ground\n",
    "        x = 10000 #10000\n",
    "        y = 3 #3\n",
    "        projectedCost += (house[51] - y)*x\n",
    "\n",
    "        #Kitchens abv ground\n",
    "        x = 15000 #15000\n",
    "        projectedCost += (house[52])*x\n",
    "\n",
    "        \"\"\" functionalList = [\"Typ\",\"Min1\",\"Min2\",\"Mod\",\"Maj1\",\"Maj2\",\"Sev\",\"Sal\"]\n",
    "        howbad = functionalList.index(house[55])\n",
    "        x = 0 #1000\n",
    "        projectedCost -= howbad * x\"\"\"\n",
    "\n",
    "        \"\"\"\n",
    "        #Cars that can fit in garage\n",
    "        x = 0 #10000\n",
    "        y = 0 #2\n",
    "        projectedCost += (house[61] - y)*x\n",
    "        \"\"\"\n",
    "\n",
    "        #Misc Val?\n",
    "        y = 2 #2\n",
    "        projectedCost += house[75]*y\n",
    "\n",
    "        #Year Sold\n",
    "        x = 6000 #6000\n",
    "        y = 2000 #2000\n",
    "        \n",
    "        projectedCost += (house[77] - y)*x\n",
    "        projectedCosts.append(projectedCost)\n",
    "        actualCost = int(house[80])\n",
    "        actualCosts.append(actualCost)\n",
    "        \n",
    "        MAE += abs(actualCost-projectedCost)\n",
    "        MSE += (actualCost-projectedCost)**2\n",
    "\n",
    "MAE = MAE / len(train)\n",
    "MSE = MSE / len(train)"
   ]
  },
  {
   "cell_type": "code",
   "execution_count": 35,
   "id": "e32a024f",
   "metadata": {},
   "outputs": [
    {
     "data": {
      "image/png": "[encoded data removed]",
      "text/plain": [
       "<Figure size 432x288 with 1 Axes>"
      ]
     },
     "metadata": {
      "needs_background": "light"
     },
     "output_type": "display_data"
    }
   ],
   "source": [
    "plt.title(\"Expected Price vs. Actual Price\")\n",
    "x = actualCosts\n",
    "y = projectedCosts\n",
    "plt.scatter(x,y,color=\"green\")\n",
    "plt.plot([0,350000],[0,350000],c=\"red\",linewidth=3)\n",
    "\n",
    "plt.show()"
   ]
  },
  {
   "cell_type": "code",
   "execution_count": 36,
   "id": "8925be13",
   "metadata": {},
   "outputs": [
    {
     "name": "stdout",
     "output_type": "stream",
     "text": [
      "Mean Absolute Error 35786.54109589041\n",
      "Mean Squared Error 2804704727.8041096\n"
     ]
    }
   ],
   "source": [
    "print(\"Mean Absolute Error\", MAE)\n",
    "print(\"Mean Squared Error\", MSE)"
   ]
  },
  {
   "cell_type": "markdown",
   "id": "08abfa16",
   "metadata": {},
   "source": [
    "<h1>References</h1>"
   ]
  },
  {
   "cell_type": "markdown",
   "id": "3e439fe0",
   "metadata": {},
   "source": [
    "The dataset we used can be found here: https://www.kaggle.com/datasets/lespin/house-prices-dataset?resource=download \n",
    "\n",
    "Everything else was used from the lecture notes. No other outside sources were consulted."
   ]
  },
  {
   "cell_type": "code",
   "execution_count": null,
   "id": "5469eee8",
   "metadata": {},
   "outputs": [],
   "source": []
  }
 ],
 "metadata": {
  "kernelspec": {
   "display_name": "Python 3",
   "language": "python",
   "name": "python3"
  },
  "language_info": {
   "codemirror_mode": {
    "name": "ipython",
    "version": 3
   },
   "file_extension": ".py",
   "mimetype": "text/x-python",
   "name": "python",
   "nbconvert_exporter": "python",
   "pygments_lexer": "ipython3",
   "version": "3.8.8"
  }
 },
 "nbformat": 4,
 "nbformat_minor": 5
}
